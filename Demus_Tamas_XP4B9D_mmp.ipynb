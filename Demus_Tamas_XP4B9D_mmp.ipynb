{
 "cells": [
  {
   "cell_type": "markdown",
   "metadata": {},
   "source": [
    "# Project work - Python for Data Science\n",
    "---\n",
    "|Subject:|Mathematical Modeling Practice|\n",
    "|---|---|\n",
    "|Semester:|Fall 2022|\n",
    "|Name:|Tamás Demus|\n",
    "|NEPTUN:|XP4B9D|\n",
    "---"
   ]
  },
  {
   "cell_type": "markdown",
   "metadata": {},
   "source": [
    "## Dataset\n",
    "---\n",
    "|Name:|Railway Track Fault Detection|\n",
    "|---|---|\n",
    "|Link to dataset:|https://www.kaggle.com/datasets/salmaneunus/railway-track-fault-detection|\n",
    "---"
   ]
  },
  {
   "cell_type": "markdown",
   "metadata": {},
   "source": [
    "Importing modules"
   ]
  },
  {
   "cell_type": "code",
   "execution_count": 3,
   "metadata": {},
   "outputs": [],
   "source": [
    "import numpy as np\n",
    "import pandas as pd\n",
    "\n",
    "import matplotlib.pyplot as plt\n",
    "import seaborn as sns\n",
    "\n",
    "# import cv2 as cv\n",
    "\n",
    "import os"
   ]
  },
  {
   "cell_type": "markdown",
   "metadata": {},
   "source": [
    "Setting up environment"
   ]
  },
  {
   "cell_type": "code",
   "execution_count": 9,
   "metadata": {},
   "outputs": [],
   "source": [
    "train_ok = os.listdir('./data/Train/Non defective/')\n",
    "train_nok = os.listdir('./data/Train/Defective/')\n",
    "validation_ok = os.listdir('./data/Validation/Non defective/')\n",
    "validation_nok = os.listdir('./data/Validation/Defective/')\n",
    "test_ok = os.listdir('./data/Test/Non defective/')\n",
    "test_nok = os.listdir('./data/Test/Defective/')\n"
   ]
  },
  {
   "cell_type": "markdown",
   "metadata": {},
   "source": [
    "Some example photos"
   ]
  },
  {
   "cell_type": "code",
   "execution_count": null,
   "metadata": {},
   "outputs": [],
   "source": []
  }
 ],
 "metadata": {
  "kernelspec": {
   "display_name": "Python 3.9.7 ('base')",
   "language": "python",
   "name": "python3"
  },
  "language_info": {
   "codemirror_mode": {
    "name": "ipython",
    "version": 3
   },
   "file_extension": ".py",
   "mimetype": "text/x-python",
   "name": "python",
   "nbconvert_exporter": "python",
   "pygments_lexer": "ipython3",
   "version": "3.9.7"
  },
  "orig_nbformat": 4,
  "vscode": {
   "interpreter": {
    "hash": "51bda5c61df71adba24161c455dff5ef01832cbb73d8752e81b291bfc6b9e3f2"
   }
  }
 },
 "nbformat": 4,
 "nbformat_minor": 2
}
