{
 "cells": [
  {
   "attachments": {},
   "cell_type": "markdown",
   "metadata": {},
   "source": [
    "## System setup\n",
    "\n",
    "---\n"
   ]
  },
  {
   "attachments": {},
   "cell_type": "markdown",
   "metadata": {},
   "source": [
    "##### Importing modules\n"
   ]
  },
  {
   "cell_type": "code",
   "execution_count": 1,
   "metadata": {},
   "outputs": [
    {
     "name": "stderr",
     "output_type": "stream",
     "text": [
      "2023-01-17 18:06:38.910488: I tensorflow/core/platform/cpu_feature_guard.cc:193] This TensorFlow binary is optimized with oneAPI Deep Neural Network Library (oneDNN) to use the following CPU instructions in performance-critical operations:  AVX2 FMA\n",
      "To enable them in other operations, rebuild TensorFlow with the appropriate compiler flags.\n",
      "2023-01-17 18:06:40.171607: W tensorflow/compiler/xla/stream_executor/platform/default/dso_loader.cc:64] Could not load dynamic library 'libcudart.so.11.0'; dlerror: libcudart.so.11.0: cannot open shared object file: No such file or directory\n",
      "2023-01-17 18:06:40.171679: I tensorflow/compiler/xla/stream_executor/cuda/cudart_stub.cc:29] Ignore above cudart dlerror if you do not have a GPU set up on your machine.\n",
      "2023-01-17 18:06:45.961166: W tensorflow/compiler/xla/stream_executor/platform/default/dso_loader.cc:64] Could not load dynamic library 'libnvinfer.so.7'; dlerror: libnvinfer.so.7: cannot open shared object file: No such file or directory\n",
      "2023-01-17 18:06:45.961867: W tensorflow/compiler/xla/stream_executor/platform/default/dso_loader.cc:64] Could not load dynamic library 'libnvinfer_plugin.so.7'; dlerror: libnvinfer_plugin.so.7: cannot open shared object file: No such file or directory\n",
      "2023-01-17 18:06:45.961924: W tensorflow/compiler/tf2tensorrt/utils/py_utils.cc:38] TF-TRT Warning: Cannot dlopen some TensorRT libraries. If you would like to use Nvidia GPU with TensorRT, please make sure the missing libraries mentioned above are installed properly.\n"
     ]
    }
   ],
   "source": [
    "from tensorflow.keras.optimizers import Adam\n",
    "\n",
    "from tensorflow.keras.callbacks import (\n",
    "    TensorBoard,\n",
    "    ModelCheckpoint,\n",
    "    EarlyStopping,\n",
    "    ReduceLROnPlateau,\n",
    ")\n",
    "\n",
    "import keras_tuner\n",
    "\n",
    "from toolkit.classes import DataSet, ImageProcessor, Augmenter, Model\n",
    "\n",
    "from tensorflow.keras.layers import BatchNormalization"
   ]
  },
  {
   "attachments": {},
   "cell_type": "markdown",
   "metadata": {},
   "source": [
    "## Read dataset\n",
    "\n",
    "---\n"
   ]
  },
  {
   "attachments": {},
   "cell_type": "markdown",
   "metadata": {},
   "source": [
    "##### Create image dataframe\n"
   ]
  },
  {
   "cell_type": "code",
   "execution_count": 2,
   "metadata": {},
   "outputs": [],
   "source": [
    "images = DataSet()\n"
   ]
  },
  {
   "cell_type": "code",
   "execution_count": 3,
   "metadata": {},
   "outputs": [
    {
     "name": "stdout",
     "output_type": "stream",
     "text": [
      "Found 150 images in ./raw/Train/Non defective/\n",
      "Found 150 images in ./raw/Train/Defective/\n",
      "Found 31 images in ./raw/Validation/Non defective/\n",
      "Found 31 images in ./raw/Validation/Defective/\n",
      "Found 11 images in ./raw/Test/Non defective/\n",
      "Found 11 images in ./raw/Test/Defective/\n",
      "Found 150 images in ./data/Train/Non defective/\n",
      "Found 150 images in ./data/Train/Defective/\n",
      "Found 31 images in ./data/Validation/Non defective/\n",
      "Found 31 images in ./data/Validation/Defective/\n",
      "Found 11 images in ./data/Test/Non defective/\n",
      "Found 11 images in ./data/Test/Defective/\n",
      "Found 25 images in ./augmented/Train/Non defective/\n",
      "Found 25 images in ./augmented/Train/Defective/\n",
      "Found 175 images in ./preprocessed/Train/Non defective/\n",
      "Found 175 images in ./preprocessed/Train/Defective/\n",
      "Found 31 images in ./preprocessed/Validation/Non defective/\n",
      "Found 31 images in ./preprocessed/Validation/Defective/\n",
      "Found 11 images in ./preprocessed/Test/Non defective/\n",
      "Found 11 images in ./preprocessed/Test/Defective/\n"
     ]
    }
   ],
   "source": [
    "datasets = [\"raw\", \"data\", \"augmented\", \"preprocessed\"]\n",
    "for dataset in datasets:\n",
    "    images.update_dataset(dataset=dataset)"
   ]
  },
  {
   "attachments": {},
   "cell_type": "markdown",
   "metadata": {},
   "source": [
    "## Hypertuner\n",
    "\n",
    "---\n"
   ]
  },
  {
   "attachments": {},
   "cell_type": "markdown",
   "metadata": {},
   "source": [
    "##### Hypertune Learning Rate\n"
   ]
  },
  {
   "cell_type": "code",
   "execution_count": 4,
   "metadata": {},
   "outputs": [
    {
     "name": "stdout",
     "output_type": "stream",
     "text": [
      "Trial 10 Complete [03h 26m 52s]\n",
      "val_accuracy: 0.6774193644523621\n",
      "\n",
      "Best val_accuracy So Far: 0.774193525314331\n",
      "Total elapsed time: 1d 10h 26m 32s\n",
      "INFO:tensorflow:Oracle triggered exit\n"
     ]
    }
   ],
   "source": [
    "CNN = Model(\"VGG16\")\n",
    "CNN.callbacks = [\n",
    "    TensorBoard(log_dir=\"./tuner/logs\"),\n",
    "]\n",
    "CNN.epochs = 20\n",
    "CNN.load_datasets(color_mode='rgb')\n",
    "\n",
    "def hp_model(hp):\n",
    "    CNN.build_model()\n",
    "    CNN.optimizer = Adam(\n",
    "        learning_rate=hp.Float(\"lr\", min_value=1e-6, max_value=1e-3, sampling=\"log\")\n",
    "    )\n",
    "    CNN.compile_model()\n",
    "    return CNN.model\n",
    "\n",
    "hp_model(keras_tuner.HyperParameters())\n",
    "tuner = keras_tuner.RandomSearch(\n",
    "    hypermodel=hp_model,\n",
    "    objective=\"val_accuracy\",\n",
    "    max_trials=10,\n",
    "    executions_per_trial=1,\n",
    "    overwrite=True,\n",
    "    directory=\"./tuner/\",\n",
    "    project_name=f\"{CNN.name}_LR\",\n",
    ")\n",
    "tuner.search(\n",
    "    CNN.data[\"Train\"],\n",
    "    validation_data=CNN.data[\"Validation\"],\n",
    "    epochs=CNN.epochs,\n",
    "    callbacks=CNN.callbacks,\n",
    ")"
   ]
  },
  {
   "cell_type": "code",
   "execution_count": 5,
   "metadata": {},
   "outputs": [
    {
     "name": "stdout",
     "output_type": "stream",
     "text": [
      "Results summary\n",
      "Results in ./tuner/VGG16_LR\n",
      "Showing 10 best trials\n",
      "<keras_tuner.engine.objective.Objective object at 0x7f9cb40b3b80>\n",
      "Trial summary\n",
      "Hyperparameters:\n",
      "lr: 1.1448657686406566e-05\n",
      "Score: 0.774193525314331\n",
      "Trial summary\n",
      "Hyperparameters:\n",
      "lr: 2.9808534935197715e-06\n",
      "Score: 0.7419354915618896\n",
      "Trial summary\n",
      "Hyperparameters:\n",
      "lr: 7.48258459362723e-06\n",
      "Score: 0.7419354915618896\n",
      "Trial summary\n",
      "Hyperparameters:\n",
      "lr: 2.736866531395312e-06\n",
      "Score: 0.725806474685669\n",
      "Trial summary\n",
      "Hyperparameters:\n",
      "lr: 0.00010809378085025995\n",
      "Score: 0.6935483813285828\n",
      "Trial summary\n",
      "Hyperparameters:\n",
      "lr: 1.0755850754957174e-06\n",
      "Score: 0.6774193644523621\n",
      "Trial summary\n",
      "Hyperparameters:\n",
      "lr: 1.5513379998103392e-06\n",
      "Score: 0.6290322542190552\n",
      "Trial summary\n",
      "Hyperparameters:\n",
      "lr: 9.57678040771624e-05\n",
      "Score: 0.5\n",
      "Trial summary\n",
      "Hyperparameters:\n",
      "lr: 0.00026932531091637506\n",
      "Score: 0.5\n",
      "Trial summary\n",
      "Hyperparameters:\n",
      "lr: 0.00037178483328028776\n",
      "Score: 0.5\n"
     ]
    }
   ],
   "source": [
    "tuner.results_summary()"
   ]
  },
  {
   "cell_type": "code",
   "execution_count": 10,
   "metadata": {},
   "outputs": [
    {
     "name": "stdout",
     "output_type": "stream",
     "text": [
      "Trial 10 Complete [00h 41m 05s]\n",
      "val_accuracy: 0.725806474685669\n",
      "\n",
      "Best val_accuracy So Far: 0.7419354915618896\n",
      "Total elapsed time: 06h 51m 11s\n",
      "INFO:tensorflow:Oracle triggered exit\n"
     ]
    }
   ],
   "source": [
    "CNN = Model(\"ResNet50_pretrained\")\n",
    "CNN.callbacks = [\n",
    "    TensorBoard(log_dir=\"./tuner/logs\"),\n",
    "]\n",
    "CNN.epochs = 10\n",
    "CNN.load_datasets(color_mode='rgb')\n",
    "\n",
    "def hp_model(hp):\n",
    "    CNN.build_model()\n",
    "    CNN.model.load_weights('./models/ResNet50_pretrained_LR.h5')\n",
    "    CNN.pretrained_model.trainable = True\n",
    "    for layer in CNN.pretrained_model.layers:\n",
    "        layer.trainable = not isinstance(layer, BatchNormalization)\n",
    "    CNN.optimizer = Adam(\n",
    "        learning_rate=hp.Float(\"lr\", min_value=1e-8, max_value=1e-6, sampling=\"log\")\n",
    "    )\n",
    "    CNN.compile_model()\n",
    "    return CNN.model\n",
    "\n",
    "hp_model(keras_tuner.HyperParameters())\n",
    "tuner = keras_tuner.RandomSearch(\n",
    "    hypermodel=hp_model,\n",
    "    objective=\"val_accuracy\",\n",
    "    max_trials=10,\n",
    "    executions_per_trial=1,\n",
    "    overwrite=True,\n",
    "    directory=\"./tuner/\",\n",
    "    project_name=f\"{CNN.name}_LR\",\n",
    ")\n",
    "tuner.search(\n",
    "    CNN.data[\"Train\"],\n",
    "    validation_data=CNN.data[\"Validation\"],\n",
    "    epochs=CNN.epochs,\n",
    "    callbacks=CNN.callbacks,\n",
    ")"
   ]
  },
  {
   "cell_type": "code",
   "execution_count": 11,
   "metadata": {},
   "outputs": [
    {
     "name": "stdout",
     "output_type": "stream",
     "text": [
      "Results summary\n",
      "Results in ./tuner/ResNet50_pretrained_LR\n",
      "Showing 10 best trials\n",
      "<keras_tuner.engine.objective.Objective object at 0x7f1b58162850>\n",
      "Trial summary\n",
      "Hyperparameters:\n",
      "lr: 2.2000693929233267e-08\n",
      "Score: 0.7419354915618896\n",
      "Trial summary\n",
      "Hyperparameters:\n",
      "lr: 6.948639754218684e-08\n",
      "Score: 0.7419354915618896\n",
      "Trial summary\n",
      "Hyperparameters:\n",
      "lr: 1.3894728980086928e-08\n",
      "Score: 0.7419354915618896\n",
      "Trial summary\n",
      "Hyperparameters:\n",
      "lr: 3.448238582327038e-07\n",
      "Score: 0.725806474685669\n",
      "Trial summary\n",
      "Hyperparameters:\n",
      "lr: 1.7224708407553915e-07\n",
      "Score: 0.725806474685669\n",
      "Trial summary\n",
      "Hyperparameters:\n",
      "lr: 4.946049376824357e-08\n",
      "Score: 0.725806474685669\n",
      "Trial summary\n",
      "Hyperparameters:\n",
      "lr: 5.0177763558943696e-08\n",
      "Score: 0.725806474685669\n",
      "Trial summary\n",
      "Hyperparameters:\n",
      "lr: 7.485507695241471e-07\n",
      "Score: 0.725806474685669\n",
      "Trial summary\n",
      "Hyperparameters:\n",
      "lr: 5.76897893744754e-07\n",
      "Score: 0.7096773982048035\n",
      "Trial summary\n",
      "Hyperparameters:\n",
      "lr: 3.7757747930199216e-07\n",
      "Score: 0.7096773982048035\n"
     ]
    }
   ],
   "source": [
    "tuner.results_summary()\n"
   ]
  },
  {
   "cell_type": "code",
   "execution_count": null,
   "metadata": {},
   "outputs": [],
   "source": []
  }
 ],
 "metadata": {
  "kernelspec": {
   "display_name": "Python 3.9.5 ('py39')",
   "language": "python",
   "name": "python3"
  },
  "language_info": {
   "codemirror_mode": {
    "name": "ipython",
    "version": 3
   },
   "file_extension": ".py",
   "mimetype": "text/x-python",
   "name": "python",
   "nbconvert_exporter": "python",
   "pygments_lexer": "ipython3",
   "version": "3.9.5 (default, Nov 23 2021, 15:27:38) \n[GCC 9.3.0]"
  },
  "orig_nbformat": 4,
  "vscode": {
   "interpreter": {
    "hash": "f88e7f4e857ba56f1514bbda4896ee561c6e75047f3e04430fec61bb1f4b42e1"
   }
  }
 },
 "nbformat": 4,
 "nbformat_minor": 2
}
