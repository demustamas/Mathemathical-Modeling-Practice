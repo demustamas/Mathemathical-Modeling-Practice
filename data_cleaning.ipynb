{
 "cells": [
  {
   "attachments": {},
   "cell_type": "markdown",
   "metadata": {},
   "source": [
    "## System setup\n",
    "\n",
    "---\n"
   ]
  },
  {
   "attachments": {},
   "cell_type": "markdown",
   "metadata": {},
   "source": [
    "##### Importing modules\n"
   ]
  },
  {
   "cell_type": "code",
   "execution_count": 3,
   "metadata": {},
   "outputs": [],
   "source": [
    "import os\n",
    "import gc\n",
    "\n",
    "import cv2 as cv\n",
    "\n",
    "from tqdm import tqdm, trange\n",
    "\n",
    "from toolkit.classes import DataSet "
   ]
  },
  {
   "attachments": {},
   "cell_type": "markdown",
   "metadata": {},
   "source": [
    "##### Setting up environment\n"
   ]
  },
  {
   "cell_type": "code",
   "execution_count": 4,
   "metadata": {},
   "outputs": [],
   "source": [
    "env = DataSet()"
   ]
  },
  {
   "attachments": {},
   "cell_type": "markdown",
   "metadata": {},
   "source": [
    "## Raw data\n",
    "\n",
    "---\n"
   ]
  },
  {
   "attachments": {},
   "cell_type": "markdown",
   "metadata": {},
   "source": [
    "##### File types\n"
   ]
  },
  {
   "cell_type": "code",
   "execution_count": 5,
   "metadata": {},
   "outputs": [
    {
     "name": "stdout",
     "output_type": "stream",
     "text": [
      "{'.jpg', '.jpeg', '.webp'}\n"
     ]
    }
   ],
   "source": [
    "ext = []\n",
    "\n",
    "for p in env.RAW_PATH:\n",
    "    ext.extend(os.path.splitext(f)[-1] for f in os.listdir(p))\n",
    "print(set(ext))"
   ]
  },
  {
   "attachments": {},
   "cell_type": "markdown",
   "metadata": {},
   "source": [
    "Copy raw dataset with new filenames and converting the extensions\n"
   ]
  },
  {
   "cell_type": "code",
   "execution_count": 5,
   "metadata": {},
   "outputs": [
    {
     "name": "stderr",
     "output_type": "stream",
     "text": [
      "./raw/Train/Non defective/: 100%|██████████| 150/150 [00:00<00:00, 24303.53it/s]\n",
      "./raw/Train/Defective/: 100%|██████████| 150/150 [00:00<00:00, 15579.08it/s]\n",
      "./raw/Validation/Non defective/: 100%|██████████| 31/31 [00:00<00:00, 23364.50it/s]\n",
      "./raw/Validation/Defective/: 100%|██████████| 31/31 [00:00<00:00, 39389.10it/s]\n",
      "./raw/Test/Non defective/: 100%|██████████| 11/11 [00:00<00:00, 15446.05it/s]\n",
      "./raw/Test/Defective/: 100%|██████████| 11/11 [00:00<00:00, 22738.96it/s]\n"
     ]
    }
   ],
   "source": [
    "i = 0\n",
    "for p_new, p in enumerate(env.RAW_PATH):\n",
    "    for f in tqdm(os.listdir(p), desc=p):\n",
    "        dst = os.path.join(env.DATA_PATH[p_new], f\"{str(i)}.jpg\")\n",
    "        if not os.path.exists(dst):\n",
    "            src = os.path.join(p, f)\n",
    "            img = cv.imread(src)\n",
    "            cv.imwrite(dst, img)\n",
    "        i += 1"
   ]
  },
  {
   "cell_type": "code",
   "execution_count": null,
   "metadata": {},
   "outputs": [],
   "source": []
  }
 ],
 "metadata": {
  "kernelspec": {
   "display_name": "Python 3.9.5 ('py39')",
   "language": "python",
   "name": "python3"
  },
  "language_info": {
   "codemirror_mode": {
    "name": "ipython",
    "version": 3
   },
   "file_extension": ".py",
   "mimetype": "text/x-python",
   "name": "python",
   "nbconvert_exporter": "python",
   "pygments_lexer": "ipython3",
   "version": "3.9.5"
  },
  "orig_nbformat": 4,
  "vscode": {
   "interpreter": {
    "hash": "f88e7f4e857ba56f1514bbda4896ee561c6e75047f3e04430fec61bb1f4b42e1"
   }
  }
 },
 "nbformat": 4,
 "nbformat_minor": 2
}
